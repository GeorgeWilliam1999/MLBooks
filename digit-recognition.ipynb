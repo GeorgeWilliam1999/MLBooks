{
 "cells": [
  {
   "cell_type": "code",
   "execution_count": 1,
   "metadata": {
    "_cell_guid": "b1076dfc-b9ad-4769-8c92-a6c4dae69d19",
    "_uuid": "8f2839f25d086af736a60e9eeb907d3b93b6e0e5",
    "execution": {
     "iopub.execute_input": "2020-09-07T13:51:58.254477Z",
     "iopub.status.busy": "2020-09-07T13:51:58.253708Z",
     "iopub.status.idle": "2020-09-07T13:51:58.258599Z",
     "shell.execute_reply": "2020-09-07T13:51:58.257823Z"
    },
    "papermill": {
     "duration": 0.031699,
     "end_time": "2020-09-07T13:51:58.258722",
     "exception": false,
     "start_time": "2020-09-07T13:51:58.227023",
     "status": "completed"
    },
    "tags": []
   },
   "outputs": [
    {
     "name": "stdout",
     "output_type": "stream",
     "text": [
      "/kaggle/input/digit-recognizer/train.csv\n",
      "/kaggle/input/digit-recognizer/test.csv\n",
      "/kaggle/input/digit-recognizer/sample_submission.csv\n"
     ]
    }
   ],
   "source": [
    "# This Python 3 environment comes with many helpful analytics libraries installed\n",
    "# It is defined by the kaggle/python Docker image: https://github.com/kaggle/docker-python\n",
    "# For example, here's several helpful packages to load\n",
    "\n",
    "import numpy as np # linear algebra\n",
    "import pandas as pd # data processing, CSV file I/O (e.g. pd.read_csv)\n",
    "\n",
    "# Input data files are available in the read-only \"../input/\" directory\n",
    "# For example, running this (by clicking run or pressing Shift+Enter) will list all files under the input directory\n",
    "\n",
    "import os\n",
    "for dirname, _, filenames in os.walk('/kaggle/input'):\n",
    "    for filename in filenames:\n",
    "        print(os.path.join(dirname, filename))\n",
    "\n",
    "# You can write up to 5GB to the current directory (/kaggle/working/) that gets preserved as output when you create a version using \"Save & Run All\" \n",
    "# You can also write temporary files to /kaggle/temp/, but they won't be saved outside of the current session"
   ]
  },
  {
   "cell_type": "code",
   "execution_count": 2,
   "metadata": {
    "_cell_guid": "79c7e3d0-c299-4dcb-8224-4455121ee9b0",
    "_uuid": "d629ff2d2480ee46fbb7e2d37f6b5fab8052498a",
    "execution": {
     "iopub.execute_input": "2020-09-07T13:51:58.305608Z",
     "iopub.status.busy": "2020-09-07T13:51:58.304603Z",
     "iopub.status.idle": "2020-09-07T13:51:58.307820Z",
     "shell.execute_reply": "2020-09-07T13:51:58.307189Z"
    },
    "papermill": {
     "duration": 0.029441,
     "end_time": "2020-09-07T13:51:58.307957",
     "exception": false,
     "start_time": "2020-09-07T13:51:58.278516",
     "status": "completed"
    },
    "tags": []
   },
   "outputs": [],
   "source": [
    "import matplotlib.pyplot as plt\n",
    "%matplotlib inline"
   ]
  },
  {
   "cell_type": "code",
   "execution_count": 3,
   "metadata": {
    "execution": {
     "iopub.execute_input": "2020-09-07T13:51:58.354516Z",
     "iopub.status.busy": "2020-09-07T13:51:58.353746Z",
     "iopub.status.idle": "2020-09-07T13:52:06.521122Z",
     "shell.execute_reply": "2020-09-07T13:52:06.520194Z"
    },
    "papermill": {
     "duration": 8.192352,
     "end_time": "2020-09-07T13:52:06.521315",
     "exception": false,
     "start_time": "2020-09-07T13:51:58.328963",
     "status": "completed"
    },
    "tags": []
   },
   "outputs": [],
   "source": [
    "from keras.models import Sequential\n",
    "from keras.layers import Dense, Dropout, Lambda, Flatten\n",
    "from keras.optimizers import Adam, RMSprop\n",
    "from sklearn.model_selection import train_test_split"
   ]
  },
  {
   "cell_type": "code",
   "execution_count": 4,
   "metadata": {
    "execution": {
     "iopub.execute_input": "2020-09-07T13:52:06.576708Z",
     "iopub.status.busy": "2020-09-07T13:52:06.575971Z",
     "iopub.status.idle": "2020-09-07T13:52:13.254248Z",
     "shell.execute_reply": "2020-09-07T13:52:13.253473Z"
    },
    "papermill": {
     "duration": 6.709953,
     "end_time": "2020-09-07T13:52:13.254398",
     "exception": false,
     "start_time": "2020-09-07T13:52:06.544445",
     "status": "completed"
    },
    "tags": []
   },
   "outputs": [],
   "source": [
    "train = pd.read_csv(\"/kaggle/input/digit-recognizer/train.csv\")\n",
    "test_images = (pd.read_csv(\"/kaggle/input/digit-recognizer/test.csv\").values).astype('float32')"
   ]
  },
  {
   "cell_type": "code",
   "execution_count": 5,
   "metadata": {
    "execution": {
     "iopub.execute_input": "2020-09-07T13:52:13.303398Z",
     "iopub.status.busy": "2020-09-07T13:52:13.302221Z",
     "iopub.status.idle": "2020-09-07T13:52:13.369268Z",
     "shell.execute_reply": "2020-09-07T13:52:13.368670Z"
    },
    "papermill": {
     "duration": 0.093441,
     "end_time": "2020-09-07T13:52:13.369420",
     "exception": false,
     "start_time": "2020-09-07T13:52:13.275979",
     "status": "completed"
    },
    "tags": []
   },
   "outputs": [],
   "source": [
    "train_images = (train.iloc[:, 1:].values).astype('float32')\n",
    "train_labels = train['label'].values.astype('int32')"
   ]
  },
  {
   "cell_type": "code",
   "execution_count": 6,
   "metadata": {
    "execution": {
     "iopub.execute_input": "2020-09-07T13:52:13.417163Z",
     "iopub.status.busy": "2020-09-07T13:52:13.416423Z",
     "iopub.status.idle": "2020-09-07T13:52:13.421057Z",
     "shell.execute_reply": "2020-09-07T13:52:13.420399Z"
    },
    "papermill": {
     "duration": 0.031638,
     "end_time": "2020-09-07T13:52:13.421181",
     "exception": false,
     "start_time": "2020-09-07T13:52:13.389543",
     "status": "completed"
    },
    "tags": []
   },
   "outputs": [
    {
     "data": {
      "text/plain": [
       "(42000, 784)"
      ]
     },
     "execution_count": 6,
     "metadata": {},
     "output_type": "execute_result"
    }
   ],
   "source": [
    "train_images.shape"
   ]
  },
  {
   "cell_type": "code",
   "execution_count": 7,
   "metadata": {
    "execution": {
     "iopub.execute_input": "2020-09-07T13:52:13.467722Z",
     "iopub.status.busy": "2020-09-07T13:52:13.466857Z",
     "iopub.status.idle": "2020-09-07T13:52:13.471377Z",
     "shell.execute_reply": "2020-09-07T13:52:13.470623Z"
    },
    "papermill": {
     "duration": 0.029874,
     "end_time": "2020-09-07T13:52:13.471504",
     "exception": false,
     "start_time": "2020-09-07T13:52:13.441630",
     "status": "completed"
    },
    "tags": []
   },
   "outputs": [
    {
     "data": {
      "text/plain": [
       "(42000,)"
      ]
     },
     "execution_count": 7,
     "metadata": {},
     "output_type": "execute_result"
    }
   ],
   "source": [
    "train_labels.shape"
   ]
  },
  {
   "cell_type": "code",
   "execution_count": 8,
   "metadata": {
    "execution": {
     "iopub.execute_input": "2020-09-07T13:52:13.521760Z",
     "iopub.status.busy": "2020-09-07T13:52:13.521020Z",
     "iopub.status.idle": "2020-09-07T13:52:14.170083Z",
     "shell.execute_reply": "2020-09-07T13:52:14.169353Z"
    },
    "papermill": {
     "duration": 0.677493,
     "end_time": "2020-09-07T13:52:14.170205",
     "exception": false,
     "start_time": "2020-09-07T13:52:13.492712",
     "status": "completed"
    },
    "tags": []
   },
   "outputs": [
    {
     "data": {
      "image/png": "[encoded data removed]",
      "text/plain": [
       "<Figure size 432x288 with 5 Axes>"
      ]
     },
     "metadata": {
      "needs_background": "light"
     },
     "output_type": "display_data"
    }
   ],
   "source": [
    "train_images = train_images.reshape(train_images.shape[0] ,28,28)\n",
    "\n",
    "for i in range(0,5):\n",
    "    plt.subplot(330+(i+1))\n",
    "    plt.imshow(train_images[i], cmap=plt.get_cmap('gray'))\n",
    "    plt.title(train_labels[i])"
   ]
  },
  {
   "cell_type": "code",
   "execution_count": 9,
   "metadata": {
    "execution": {
     "iopub.execute_input": "2020-09-07T13:52:14.221330Z",
     "iopub.status.busy": "2020-09-07T13:52:14.220258Z",
     "iopub.status.idle": "2020-09-07T13:52:14.223537Z",
     "shell.execute_reply": "2020-09-07T13:52:14.222953Z"
    },
    "papermill": {
     "duration": 0.030952,
     "end_time": "2020-09-07T13:52:14.223658",
     "exception": false,
     "start_time": "2020-09-07T13:52:14.192706",
     "status": "completed"
    },
    "tags": []
   },
   "outputs": [],
   "source": [
    "train_images = train_images.reshape(train_images.shape[0] ,28*28)"
   ]
  },
  {
   "cell_type": "code",
   "execution_count": 10,
   "metadata": {
    "execution": {
     "iopub.execute_input": "2020-09-07T13:52:14.274096Z",
     "iopub.status.busy": "2020-09-07T13:52:14.273409Z",
     "iopub.status.idle": "2020-09-07T13:52:14.280992Z",
     "shell.execute_reply": "2020-09-07T13:52:14.281527Z"
    },
    "papermill": {
     "duration": 0.035673,
     "end_time": "2020-09-07T13:52:14.281678",
     "exception": false,
     "start_time": "2020-09-07T13:52:14.246005",
     "status": "completed"
    },
    "tags": []
   },
   "outputs": [
    {
     "data": {
      "text/plain": [
       "10"
      ]
     },
     "execution_count": 10,
     "metadata": {},
     "output_type": "execute_result"
    }
   ],
   "source": [
    "from keras.utils.np_utils import to_categorical\n",
    "train_labels = to_categorical(train_labels)\n",
    "num_classes = train_labels.shape[1]\n",
    "num_classes"
   ]
  },
  {
   "cell_type": "code",
   "execution_count": 11,
   "metadata": {
    "execution": {
     "iopub.execute_input": "2020-09-07T13:52:14.339374Z",
     "iopub.status.busy": "2020-09-07T13:52:14.333844Z",
     "iopub.status.idle": "2020-09-07T13:52:14.483458Z",
     "shell.execute_reply": "2020-09-07T13:52:14.484205Z"
    },
    "papermill": {
     "duration": 0.179584,
     "end_time": "2020-09-07T13:52:14.484434",
     "exception": false,
     "start_time": "2020-09-07T13:52:14.304850",
     "status": "completed"
    },
    "tags": []
   },
   "outputs": [
    {
     "name": "stderr",
     "output_type": "stream",
     "text": [
      "/opt/conda/lib/python3.7/site-packages/matplotlib/text.py:1165: FutureWarning: elementwise comparison failed; returning scalar instead, but in the future will perform elementwise comparison\n",
      "  if s != self._text:\n"
     ]
    },
    {
     "data": {
      "image/png": "[encoded data removed]",
      "text/plain": [
       "<Figure size 432x288 with 1 Axes>"
      ]
     },
     "metadata": {
      "needs_background": "light"
     },
     "output_type": "display_data"
    }
   ],
   "source": [
    "plt.title(train_labels[8])\n",
    "plt.plot(train_labels[8])\n",
    "plt.xticks(range(10));"
   ]
  },
  {
   "cell_type": "code",
   "execution_count": 12,
   "metadata": {
    "execution": {
     "iopub.execute_input": "2020-09-07T13:52:14.539454Z",
     "iopub.status.busy": "2020-09-07T13:52:14.538627Z",
     "iopub.status.idle": "2020-09-07T13:52:14.541819Z",
     "shell.execute_reply": "2020-09-07T13:52:14.541079Z"
    },
    "papermill": {
     "duration": 0.032526,
     "end_time": "2020-09-07T13:52:14.541949",
     "exception": false,
     "start_time": "2020-09-07T13:52:14.509423",
     "status": "completed"
    },
    "tags": []
   },
   "outputs": [],
   "source": [
    "seed = 43\n",
    "np.random.seed(seed)"
   ]
  },
  {
   "cell_type": "code",
   "execution_count": 13,
   "metadata": {
    "execution": {
     "iopub.execute_input": "2020-09-07T13:52:14.597551Z",
     "iopub.status.busy": "2020-09-07T13:52:14.596669Z",
     "iopub.status.idle": "2020-09-07T13:52:14.600716Z",
     "shell.execute_reply": "2020-09-07T13:52:14.601301Z"
    },
    "papermill": {
     "duration": 0.034302,
     "end_time": "2020-09-07T13:52:14.601450",
     "exception": false,
     "start_time": "2020-09-07T13:52:14.567148",
     "status": "completed"
    },
    "tags": []
   },
   "outputs": [
    {
     "data": {
      "text/plain": [
       "(42000, 784)"
      ]
     },
     "execution_count": 13,
     "metadata": {},
     "output_type": "execute_result"
    }
   ],
   "source": [
    "train_images.shape"
   ]
  },
  {
   "cell_type": "code",
   "execution_count": 14,
   "metadata": {
    "execution": {
     "iopub.execute_input": "2020-09-07T13:52:14.662307Z",
     "iopub.status.busy": "2020-09-07T13:52:14.661512Z",
     "iopub.status.idle": "2020-09-07T13:52:14.802514Z",
     "shell.execute_reply": "2020-09-07T13:52:14.801731Z"
    },
    "papermill": {
     "duration": 0.175856,
     "end_time": "2020-09-07T13:52:14.802646",
     "exception": false,
     "start_time": "2020-09-07T13:52:14.626790",
     "status": "completed"
    },
    "tags": []
   },
   "outputs": [],
   "source": [
    "model = Sequential()\n",
    "model.add(Dense(32, activation='relu', input_dim=(28*28)))\n",
    "model.add(Dense(16, activation='relu'))\n",
    "model.add(Dense(10, activation='softmax'))\n",
    "\n",
    "model.compile(optimizer=RMSprop(lr=0.001),\n",
    "             loss='categorical_crossentropy',\n",
    "             metrics=['accuracy'])"
   ]
  },
  {
   "cell_type": "code",
   "execution_count": 15,
   "metadata": {
    "execution": {
     "iopub.execute_input": "2020-09-07T13:52:14.860473Z",
     "iopub.status.busy": "2020-09-07T13:52:14.859591Z",
     "iopub.status.idle": "2020-09-07T13:52:38.522244Z",
     "shell.execute_reply": "2020-09-07T13:52:38.522955Z"
    },
    "papermill": {
     "duration": 23.69497,
     "end_time": "2020-09-07T13:52:38.523118",
     "exception": false,
     "start_time": "2020-09-07T13:52:14.828148",
     "status": "completed"
    },
    "tags": []
   },
   "outputs": [
    {
     "name": "stdout",
     "output_type": "stream",
     "text": [
      "Epoch 1/25\n",
      "624/624 [==============================] - 1s 2ms/step - loss: 2.6104 - accuracy: 0.6612 - val_loss: 0.7587 - val_accuracy: 0.7933\n",
      "Epoch 2/25\n",
      "624/624 [==============================] - 1s 1ms/step - loss: 0.5817 - accuracy: 0.8615 - val_loss: 0.5211 - val_accuracy: 0.8671\n",
      "Epoch 3/25\n",
      "624/624 [==============================] - 1s 1ms/step - loss: 0.4251 - accuracy: 0.9020 - val_loss: 0.4763 - val_accuracy: 0.8914\n",
      "Epoch 4/25\n",
      "624/624 [==============================] - 1s 1ms/step - loss: 0.3569 - accuracy: 0.9144 - val_loss: 0.4204 - val_accuracy: 0.9143\n",
      "Epoch 5/25\n",
      "624/624 [==============================] - 1s 1ms/step - loss: 0.3211 - accuracy: 0.9244 - val_loss: 0.3875 - val_accuracy: 0.9124\n",
      "Epoch 6/25\n",
      "624/624 [==============================] - 1s 1ms/step - loss: 0.2920 - accuracy: 0.9313 - val_loss: 0.3999 - val_accuracy: 0.9095\n",
      "Epoch 7/25\n",
      "624/624 [==============================] - 1s 1ms/step - loss: 0.2774 - accuracy: 0.9336 - val_loss: 0.4277 - val_accuracy: 0.9262\n",
      "Epoch 8/25\n",
      "624/624 [==============================] - 1s 1ms/step - loss: 0.2591 - accuracy: 0.9377 - val_loss: 0.3558 - val_accuracy: 0.9205\n",
      "Epoch 9/25\n",
      "624/624 [==============================] - 1s 1ms/step - loss: 0.2511 - accuracy: 0.9401 - val_loss: 0.4103 - val_accuracy: 0.9219\n",
      "Epoch 10/25\n",
      "624/624 [==============================] - 1s 2ms/step - loss: 0.2358 - accuracy: 0.9439 - val_loss: 0.3941 - val_accuracy: 0.9267\n",
      "Epoch 11/25\n",
      "624/624 [==============================] - 1s 1ms/step - loss: 0.2256 - accuracy: 0.9463 - val_loss: 0.3676 - val_accuracy: 0.9300\n",
      "Epoch 12/25\n",
      "624/624 [==============================] - 1s 1ms/step - loss: 0.2125 - accuracy: 0.9471 - val_loss: 0.4270 - val_accuracy: 0.9333\n",
      "Epoch 13/25\n",
      "624/624 [==============================] - 1s 1ms/step - loss: 0.2025 - accuracy: 0.9509 - val_loss: 0.3836 - val_accuracy: 0.9305\n",
      "Epoch 14/25\n",
      "624/624 [==============================] - 1s 1ms/step - loss: 0.1980 - accuracy: 0.9523 - val_loss: 0.4184 - val_accuracy: 0.9248\n",
      "Epoch 15/25\n",
      "624/624 [==============================] - 1s 1ms/step - loss: 0.1923 - accuracy: 0.9531 - val_loss: 0.3663 - val_accuracy: 0.9319\n",
      "Epoch 16/25\n",
      "624/624 [==============================] - 1s 1ms/step - loss: 0.1859 - accuracy: 0.9536 - val_loss: 0.3519 - val_accuracy: 0.9390\n",
      "Epoch 17/25\n",
      "624/624 [==============================] - 1s 1ms/step - loss: 0.1798 - accuracy: 0.9565 - val_loss: 0.3814 - val_accuracy: 0.9348\n",
      "Epoch 18/25\n",
      "624/624 [==============================] - 1s 1ms/step - loss: 0.1771 - accuracy: 0.9575 - val_loss: 0.3940 - val_accuracy: 0.9443\n",
      "Epoch 19/25\n",
      "624/624 [==============================] - 1s 1ms/step - loss: 0.1728 - accuracy: 0.9580 - val_loss: 0.3916 - val_accuracy: 0.9352\n",
      "Epoch 20/25\n",
      "624/624 [==============================] - 1s 1ms/step - loss: 0.1658 - accuracy: 0.9600 - val_loss: 0.4005 - val_accuracy: 0.9429\n",
      "Epoch 21/25\n",
      "624/624 [==============================] - 1s 1ms/step - loss: 0.1658 - accuracy: 0.9601 - val_loss: 0.4375 - val_accuracy: 0.9343\n",
      "Epoch 22/25\n",
      "624/624 [==============================] - 1s 1ms/step - loss: 0.1616 - accuracy: 0.9608 - val_loss: 0.4249 - val_accuracy: 0.9429\n",
      "Epoch 23/25\n",
      "624/624 [==============================] - 1s 2ms/step - loss: 0.1571 - accuracy: 0.9610 - val_loss: 0.4794 - val_accuracy: 0.9362\n",
      "Epoch 24/25\n",
      "624/624 [==============================] - 1s 1ms/step - loss: 0.1533 - accuracy: 0.9624 - val_loss: 0.4848 - val_accuracy: 0.9367\n",
      "Epoch 25/25\n",
      "624/624 [==============================] - 1s 1ms/step - loss: 0.1535 - accuracy: 0.9637 - val_loss: 0.5191 - val_accuracy: 0.9424\n"
     ]
    }
   ],
   "source": [
    "history=model.fit(train_images, train_labels, validation_split=0.05,\n",
    "                 epochs=25, batch_size=64)"
   ]
  },
  {
   "cell_type": "code",
   "execution_count": 16,
   "metadata": {
    "execution": {
     "iopub.execute_input": "2020-09-07T13:52:38.945979Z",
     "iopub.status.busy": "2020-09-07T13:52:38.945136Z",
     "iopub.status.idle": "2020-09-07T13:52:38.949894Z",
     "shell.execute_reply": "2020-09-07T13:52:38.949226Z"
    },
    "papermill": {
     "duration": 0.216395,
     "end_time": "2020-09-07T13:52:38.950012",
     "exception": false,
     "start_time": "2020-09-07T13:52:38.733617",
     "status": "completed"
    },
    "tags": []
   },
   "outputs": [
    {
     "data": {
      "text/plain": [
       "dict_keys(['loss', 'accuracy', 'val_loss', 'val_accuracy'])"
      ]
     },
     "execution_count": 16,
     "metadata": {},
     "output_type": "execute_result"
    }
   ],
   "source": [
    "history_dict = history.history\n",
    "history_dict.keys()"
   ]
  },
  {
   "cell_type": "code",
   "execution_count": 17,
   "metadata": {
    "execution": {
     "iopub.execute_input": "2020-09-07T13:52:39.371867Z",
     "iopub.status.busy": "2020-09-07T13:52:39.370822Z",
     "iopub.status.idle": "2020-09-07T13:52:39.374306Z",
     "shell.execute_reply": "2020-09-07T13:52:39.373598Z"
    },
    "papermill": {
     "duration": 0.216252,
     "end_time": "2020-09-07T13:52:39.374426",
     "exception": false,
     "start_time": "2020-09-07T13:52:39.158174",
     "status": "completed"
    },
    "tags": []
   },
   "outputs": [],
   "source": [
    "loss_values = history_dict['loss']\n",
    "val_loss_values = history_dict['val_loss']\n",
    "epochs = range(1, len(loss_values)+1)"
   ]
  },
  {
   "cell_type": "code",
   "execution_count": 18,
   "metadata": {
    "execution": {
     "iopub.execute_input": "2020-09-07T13:52:39.801294Z",
     "iopub.status.busy": "2020-09-07T13:52:39.800491Z",
     "iopub.status.idle": "2020-09-07T13:52:39.949767Z",
     "shell.execute_reply": "2020-09-07T13:52:39.950497Z"
    },
    "papermill": {
     "duration": 0.368703,
     "end_time": "2020-09-07T13:52:39.950653",
     "exception": false,
     "start_time": "2020-09-07T13:52:39.581950",
     "status": "completed"
    },
    "tags": []
   },
   "outputs": [
    {
     "data": {
      "text/plain": [
       "Text(0, 0.5, 'Loss')"
      ]
     },
     "execution_count": 18,
     "metadata": {},
     "output_type": "execute_result"
    },
    {
     "data": {
      "image/png": "[encoded data removed]",
      "text/plain": [
       "<Figure size 432x288 with 1 Axes>"
      ]
     },
     "metadata": {
      "needs_background": "light"
     },
     "output_type": "display_data"
    }
   ],
   "source": [
    "plt.plot(epochs, loss_values, 'bo')\n",
    "plt.plot(epochs, val_loss_values, 'b+')\n",
    "plt.xlabel('Epochs')\n",
    "plt.ylabel('Loss')"
   ]
  },
  {
   "cell_type": "code",
   "execution_count": 19,
   "metadata": {
    "execution": {
     "iopub.execute_input": "2020-09-07T13:52:40.378108Z",
     "iopub.status.busy": "2020-09-07T13:52:40.377346Z",
     "iopub.status.idle": "2020-09-07T13:52:40.380798Z",
     "shell.execute_reply": "2020-09-07T13:52:40.380009Z"
    },
    "papermill": {
     "duration": 0.217371,
     "end_time": "2020-09-07T13:52:40.380923",
     "exception": false,
     "start_time": "2020-09-07T13:52:40.163552",
     "status": "completed"
    },
    "tags": []
   },
   "outputs": [],
   "source": [
    "acc_values = history_dict['accuracy']\n",
    "val_acc_values = history_dict['val_accuracy']"
   ]
  },
  {
   "cell_type": "code",
   "execution_count": 20,
   "metadata": {
    "execution": {
     "iopub.execute_input": "2020-09-07T13:52:40.812472Z",
     "iopub.status.busy": "2020-09-07T13:52:40.806713Z",
     "iopub.status.idle": "2020-09-07T13:52:40.967262Z",
     "shell.execute_reply": "2020-09-07T13:52:40.966700Z"
    },
    "papermill": {
     "duration": 0.376462,
     "end_time": "2020-09-07T13:52:40.967413",
     "exception": false,
     "start_time": "2020-09-07T13:52:40.590951",
     "status": "completed"
    },
    "tags": []
   },
   "outputs": [
    {
     "data": {
      "image/png": "[encoded data removed]",
      "text/plain": [
       "<Figure size 432x288 with 1 Axes>"
      ]
     },
     "metadata": {
      "needs_background": "light"
     },
     "output_type": "display_data"
    }
   ],
   "source": [
    "plt.plot(epochs, acc_values, 'bo')\n",
    "plt.plot(epochs, val_acc_values, 'b+')\n",
    "plt.xlabel('Epochs')\n",
    "plt.ylabel('Accuracy')\n",
    "\n",
    "plt.show()"
   ]
  },
  {
   "cell_type": "code",
   "execution_count": 21,
   "metadata": {
    "execution": {
     "iopub.execute_input": "2020-09-07T13:52:41.401386Z",
     "iopub.status.busy": "2020-09-07T13:52:41.400253Z",
     "iopub.status.idle": "2020-09-07T13:53:03.073828Z",
     "shell.execute_reply": "2020-09-07T13:53:03.074822Z"
    },
    "papermill": {
     "duration": 21.897005,
     "end_time": "2020-09-07T13:53:03.075049",
     "exception": false,
     "start_time": "2020-09-07T13:52:41.178044",
     "status": "completed"
    },
    "tags": []
   },
   "outputs": [
    {
     "name": "stdout",
     "output_type": "stream",
     "text": [
      "Epoch 1/15\n",
      "657/657 [==============================] - 1s 2ms/step - loss: 8.1710 - accuracy: 0.3906\n",
      "Epoch 2/15\n",
      "657/657 [==============================] - 1s 2ms/step - loss: 1.3102 - accuracy: 0.6443\n",
      "Epoch 3/15\n",
      "657/657 [==============================] - 1s 2ms/step - loss: 0.8650 - accuracy: 0.7709\n",
      "Epoch 4/15\n",
      "657/657 [==============================] - 1s 2ms/step - loss: 0.6465 - accuracy: 0.8323\n",
      "Epoch 5/15\n",
      "657/657 [==============================] - 1s 2ms/step - loss: 0.5331 - accuracy: 0.8614\n",
      "Epoch 6/15\n",
      "657/657 [==============================] - 1s 2ms/step - loss: 0.4606 - accuracy: 0.8830\n",
      "Epoch 7/15\n",
      "657/657 [==============================] - 1s 2ms/step - loss: 0.4156 - accuracy: 0.8925\n",
      "Epoch 8/15\n",
      "657/657 [==============================] - 1s 2ms/step - loss: 0.3771 - accuracy: 0.9050\n",
      "Epoch 9/15\n",
      "657/657 [==============================] - 1s 2ms/step - loss: 0.3431 - accuracy: 0.9132\n",
      "Epoch 10/15\n",
      "657/657 [==============================] - 1s 2ms/step - loss: 0.3167 - accuracy: 0.9200\n",
      "Epoch 11/15\n",
      "657/657 [==============================] - 1s 2ms/step - loss: 0.2927 - accuracy: 0.9251\n",
      "Epoch 12/15\n",
      "657/657 [==============================] - 1s 2ms/step - loss: 0.2802 - accuracy: 0.9304\n",
      "Epoch 13/15\n",
      "657/657 [==============================] - 1s 2ms/step - loss: 0.2667 - accuracy: 0.9348\n",
      "Epoch 14/15\n",
      "657/657 [==============================] - 1s 2ms/step - loss: 0.2519 - accuracy: 0.9382\n",
      "Epoch 15/15\n",
      "657/657 [==============================] - 1s 2ms/step - loss: 0.2393 - accuracy: 0.9426\n"
     ]
    }
   ],
   "source": [
    "model = Sequential()\n",
    "model.add(Dense(64, activation='relu', input_dim=(28*28)))\n",
    "model.add(Dense(128, activation='relu'))\n",
    "model.add(Dropout(0.15))\n",
    "model.add(Dense(64, activation='relu'))\n",
    "model.add(Dropout(0.15))\n",
    "model.add(Dense(10, activation='softmax'))\n",
    "\n",
    "model.compile(optimizer=RMSprop(lr=0.0001), loss='categorical_crossentropy', metrics=['accuracy'])\n",
    "history=model.fit(train_images, train_labels, epochs=15, batch_size=64)"
   ]
  },
  {
   "cell_type": "code",
   "execution_count": 22,
   "metadata": {
    "execution": {
     "iopub.execute_input": "2020-09-07T13:53:03.852135Z",
     "iopub.status.busy": "2020-09-07T13:53:03.851386Z",
     "iopub.status.idle": "2020-09-07T13:53:04.981761Z",
     "shell.execute_reply": "2020-09-07T13:53:04.981101Z"
    },
    "papermill": {
     "duration": 1.521035,
     "end_time": "2020-09-07T13:53:04.981895",
     "exception": false,
     "start_time": "2020-09-07T13:53:03.460860",
     "status": "completed"
    },
    "tags": []
   },
   "outputs": [],
   "source": [
    "predictions = model.predict_classes(test_images, verbose=0)\n",
    "submissions=pd.DataFrame({'ImageId':list(range(1,len(predictions) + 1)), \"Label\": predictions})\n",
    "submissions.to_csv(\"DR.csv\", index=False, header=True)"
   ]
  },
  {
   "cell_type": "code",
   "execution_count": null,
   "metadata": {
    "papermill": {
     "duration": 0.381261,
     "end_time": "2020-09-07T13:53:05.749744",
     "exception": false,
     "start_time": "2020-09-07T13:53:05.368483",
     "status": "completed"
    },
    "tags": []
   },
   "outputs": [],
   "source": []
  },
  {
   "cell_type": "code",
   "execution_count": null,
   "metadata": {
    "papermill": {
     "duration": 0.380485,
     "end_time": "2020-09-07T13:53:06.515190",
     "exception": false,
     "start_time": "2020-09-07T13:53:06.134705",
     "status": "completed"
    },
    "tags": []
   },
   "outputs": [],
   "source": []
  }
 ],
 "metadata": {
  "kernelspec": {
   "display_name": "Python 3",
   "language": "python",
   "name": "python3"
  },
  "language_info": {
   "codemirror_mode": {
    "name": "ipython",
    "version": 3
   },
   "file_extension": ".py",
   "mimetype": "text/x-python",
   "name": "python",
   "nbconvert_exporter": "python",
   "pygments_lexer": "ipython3",
   "version": "3.7.6"
  },
  "papermill": {
   "duration": 73.345147,
   "end_time": "2020-09-07T13:53:07.005404",
   "environment_variables": {},
   "exception": null,
   "input_path": "__notebook__.ipynb",
   "output_path": "__notebook__.ipynb",
   "parameters": {},
   "start_time": "2020-09-07T13:51:53.660257",
   "version": "2.1.0"
  }
 },
 "nbformat": 4,
 "nbformat_minor": 4
}
